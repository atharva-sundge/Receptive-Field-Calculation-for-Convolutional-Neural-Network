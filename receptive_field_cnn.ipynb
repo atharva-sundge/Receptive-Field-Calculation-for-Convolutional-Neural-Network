{
 "cells": [
  {
   "cell_type": "code",
   "execution_count": 5,
   "metadata": {},
   "outputs": [],
   "source": [
    "import math\n",
    "import torch\n",
    "import torch.nn as nn"
   ]
  },
  {
   "cell_type": "markdown",
   "metadata": {},
   "source": [
    "Network Architecture"
   ]
  },
  {
   "cell_type": "code",
   "execution_count": 3,
   "metadata": {},
   "outputs": [],
   "source": [
    "\n",
    "# Initial part of network, whihc is fixed\n",
    "class initial_part_network(nn.Module):\n",
    "    def __init__(self):\n",
    "        super(initial_part_network, self).__init__()\n",
    "        self.conv = nn.Conv2d(in_channels=3, out_channels=8, kernel_size=5, stride=1, padding=2)\n",
    "        self.maxpool = nn.MaxPool2d(kernel_size=2, stride=2)\n",
    "\n",
    "    def forward(self, x):\n",
    "        x = self.conv(x)\n",
    "        x = self.maxpool(x)\n",
    "        return x\n",
    "\n",
    "# Custom part of network, which can be added many time as per requirement(0,1,2,3,...times)\n",
    "class custom_part(nn.Module):\n",
    "    def __init__(self, in_channels):\n",
    "        super(custom_part, self).__init__()\n",
    "        self.conv1 = nn.Conv2d(in_channels=in_channels, out_channels=2 * in_channels, kernel_size=7, stride=1, padding=3)\n",
    "        self.maxpool1 = nn.MaxPool2d(kernel_size=2, stride=2)\n",
    "        self.conv2 = nn.Conv2d(in_channels=2 * in_channels, out_channels=4 * in_channels, kernel_size=5, stride=1, padding=2)\n",
    "        self.maxpool2 = nn.MaxPool2d(kernel_size=2, stride=2)\n",
    "\n",
    "    def forward(self, x):\n",
    "        x = self.conv1(x)\n",
    "        x = self.maxpool1(x)\n",
    "        x = self.conv2(x)\n",
    "        x = self.maxpool2(x)\n",
    "        return x\n",
    "\n",
    "# Final network is which formed with intial part network first then attached custom blocks as per given condition\n",
    "class final_network(nn.Module):\n",
    "    def __init__(self, num_custom_block=1):\n",
    "        super(final_network, self).__init__()\n",
    "        self.initial_part = initial_part_network()\n",
    "        \n",
    "        # Stacking custom blocks based on given num custom block value\n",
    "        custom_blocks = []\n",
    "        in_channels = 8\n",
    "        for _ in range(num_custom_block):\n",
    "            custom_blocks.append(custom_part(in_channels))\n",
    "            in_channels *= 4  \n",
    "        self.custom_blocks = nn.Sequential(*custom_blocks)\n",
    "        \n",
    "        # Last part of network\n",
    "        self.remaining_network = nn.Sequential(\n",
    "            nn.Flatten(),\n",
    "            nn.Linear(in_channels, 3)  # 3 is arbitrary number, it modify as per requirement\n",
    "        )\n",
    "\n",
    "    def forward(self, x):\n",
    "        x = self.initial_part(x)\n",
    "        x = self.custom_blocks(x)\n",
    "        x = self.remaining_network(x)\n",
    "        return x\n"
   ]
  },
  {
   "cell_type": "markdown",
   "metadata": {},
   "source": [
    "Model (for demonstration, usinng 3 custom blocks)"
   ]
  },
  {
   "cell_type": "code",
   "execution_count": 4,
   "metadata": {},
   "outputs": [
    {
     "name": "stdout",
     "output_type": "stream",
     "text": [
      "final_network(\n",
      "  (initial_part): initial_part_network(\n",
      "    (conv): Conv2d(3, 8, kernel_size=(5, 5), stride=(1, 1), padding=(2, 2))\n",
      "    (maxpool): MaxPool2d(kernel_size=2, stride=2, padding=0, dilation=1, ceil_mode=False)\n",
      "  )\n",
      "  (custom_blocks): Sequential(\n",
      "    (0): custom_part(\n",
      "      (conv1): Conv2d(8, 16, kernel_size=(7, 7), stride=(1, 1), padding=(3, 3))\n",
      "      (maxpool1): MaxPool2d(kernel_size=2, stride=2, padding=0, dilation=1, ceil_mode=False)\n",
      "      (conv2): Conv2d(16, 32, kernel_size=(5, 5), stride=(1, 1), padding=(2, 2))\n",
      "      (maxpool2): MaxPool2d(kernel_size=2, stride=2, padding=0, dilation=1, ceil_mode=False)\n",
      "    )\n",
      "    (1): custom_part(\n",
      "      (conv1): Conv2d(32, 64, kernel_size=(7, 7), stride=(1, 1), padding=(3, 3))\n",
      "      (maxpool1): MaxPool2d(kernel_size=2, stride=2, padding=0, dilation=1, ceil_mode=False)\n",
      "      (conv2): Conv2d(64, 128, kernel_size=(5, 5), stride=(1, 1), padding=(2, 2))\n",
      "      (maxpool2): MaxPool2d(kernel_size=2, stride=2, padding=0, dilation=1, ceil_mode=False)\n",
      "    )\n",
      "    (2): custom_part(\n",
      "      (conv1): Conv2d(128, 256, kernel_size=(7, 7), stride=(1, 1), padding=(3, 3))\n",
      "      (maxpool1): MaxPool2d(kernel_size=2, stride=2, padding=0, dilation=1, ceil_mode=False)\n",
      "      (conv2): Conv2d(256, 512, kernel_size=(5, 5), stride=(1, 1), padding=(2, 2))\n",
      "      (maxpool2): MaxPool2d(kernel_size=2, stride=2, padding=0, dilation=1, ceil_mode=False)\n",
      "    )\n",
      "  )\n",
      "  (remaining_network): Sequential(\n",
      "    (0): Flatten(start_dim=1, end_dim=-1)\n",
      "    (1): Linear(in_features=512, out_features=3, bias=True)\n",
      "  )\n",
      ")\n"
     ]
    }
   ],
   "source": [
    "model = final_network(num_custom_block=3)  \n",
    "print(model)\n"
   ]
  },
  {
   "cell_type": "markdown",
   "metadata": {},
   "source": [
    "Receptive Field Calculation"
   ]
  },
  {
   "cell_type": "code",
   "execution_count": null,
   "metadata": {},
   "outputs": [],
   "source": [
    "# Calculating output-input parameters\n",
    "def outFromIn(conv_params, layer_in):\n",
    "    n_in_h, n_in_w, j_in, r_in, (start_in_h, start_in_w) = layer_in\n",
    "    k, s, p = conv_params\n",
    "\n",
    "    # Calculate output dimensions for height and width\n",
    "    n_out_h = math.floor((n_in_h - k + 2 * p) / s) + 1\n",
    "    n_out_w = math.floor((n_in_w - k + 2 * p) / s) + 1\n",
    "\n",
    "    # Output jump and receptive field calculation\n",
    "    j_out = j_in * s\n",
    "    r_out = r_in + (k - 1) * (j_in)\n",
    "  \n",
    "    return (n_out_h, n_out_w, j_out, r_out)\n"
   ]
  },
  {
   "cell_type": "code",
   "execution_count": null,
   "metadata": {},
   "outputs": [],
   "source": [
    "# Function to print layer information\n",
    "def printLayer(layer, layer_name):\n",
    "    print(f\"{layer_name}:\")\n",
    "    print(f\"\\t n (H, W): ({layer[0]}, {layer[1]})\")\n",
    "    print(f\"\\t jump: {layer[2]}\")\n",
    "    print(f\"\\t Receptive fied: {layer[3]}\")\n"
   ]
  },
  {
   "cell_type": "code",
   "execution_count": null,
   "metadata": {},
   "outputs": [],
   "source": []
  },
  {
   "cell_type": "code",
   "execution_count": null,
   "metadata": {},
   "outputs": [],
   "source": []
  },
  {
   "cell_type": "code",
   "execution_count": null,
   "metadata": {},
   "outputs": [],
   "source": []
  }
 ],
 "metadata": {
  "kernelspec": {
   "display_name": "rl",
   "language": "python",
   "name": "python3"
  },
  "language_info": {
   "codemirror_mode": {
    "name": "ipython",
    "version": 3
   },
   "file_extension": ".py",
   "mimetype": "text/x-python",
   "name": "python",
   "nbconvert_exporter": "python",
   "pygments_lexer": "ipython3",
   "version": "3.8.20"
  }
 },
 "nbformat": 4,
 "nbformat_minor": 2
}
