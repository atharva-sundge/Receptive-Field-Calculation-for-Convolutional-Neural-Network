{
 "cells": [
  {
   "cell_type": "code",
   "execution_count": 1,
   "metadata": {},
   "outputs": [
    {
     "name": "stderr",
     "output_type": "stream",
     "text": [
      "c:\\Users\\Asus\\anaconda3\\envs\\rl\\lib\\site-packages\\tqdm\\auto.py:21: TqdmWarning: IProgress not found. Please update jupyter and ipywidgets. See https://ipywidgets.readthedocs.io/en/stable/user_install.html\n",
      "  from .autonotebook import tqdm as notebook_tqdm\n"
     ]
    }
   ],
   "source": [
    "import math\n",
    "import torch\n",
    "import torch.nn as nn"
   ]
  },
  {
   "cell_type": "markdown",
   "metadata": {},
   "source": [
    "Network Architecture"
   ]
  },
  {
   "cell_type": "code",
   "execution_count": 2,
   "metadata": {},
   "outputs": [],
   "source": [
    "\n",
    "# Initial part of network, whihc is fixed\n",
    "class initial_part_network(nn.Module):\n",
    "    def __init__(self):\n",
    "        super(initial_part_network, self).__init__()\n",
    "        self.conv = nn.Conv2d(in_channels=3, out_channels=8, kernel_size=5, stride=1, padding=2)\n",
    "        self.maxpool = nn.MaxPool2d(kernel_size=2, stride=2)\n",
    "\n",
    "    def forward(self, x):\n",
    "        x = self.conv(x)\n",
    "        x = self.maxpool(x)\n",
    "        return x\n",
    "\n",
    "# Custom part of network, which can be added many time as per requirement(0,1,2,3,...times)\n",
    "class custom_part(nn.Module):\n",
    "    def __init__(self, in_channels):\n",
    "        super(custom_part, self).__init__()\n",
    "        self.conv1 = nn.Conv2d(in_channels=in_channels, out_channels=2 * in_channels, kernel_size=7, stride=1, padding=3)\n",
    "        self.maxpool1 = nn.MaxPool2d(kernel_size=2, stride=2)\n",
    "        self.conv2 = nn.Conv2d(in_channels=2 * in_channels, out_channels=4 * in_channels, kernel_size=5, stride=1, padding=2)\n",
    "        self.maxpool2 = nn.MaxPool2d(kernel_size=2, stride=2)\n",
    "\n",
    "    def forward(self, x):\n",
    "        x = self.conv1(x)\n",
    "        x = self.maxpool1(x)\n",
    "        x = self.conv2(x)\n",
    "        x = self.maxpool2(x)\n",
    "        return x\n",
    "\n",
    "# Final network is which formed with intial part network first then attached custom blocks as per given condition\n",
    "class final_network(nn.Module):\n",
    "    def __init__(self, num_custom_block=1):\n",
    "        super(final_network, self).__init__()\n",
    "        self.initial_part = initial_part_network()\n",
    "        \n",
    "        # Stacking custom blocks based on given num custom block value\n",
    "        custom_blocks = []\n",
    "        in_channels = 8\n",
    "        for _ in range(num_custom_block):\n",
    "            custom_blocks.append(custom_part(in_channels))\n",
    "            in_channels *= 4  \n",
    "        self.custom_blocks = nn.Sequential(*custom_blocks)\n",
    "        \n",
    "        # Last part of network\n",
    "        self.remaining_network = nn.Sequential(\n",
    "            nn.Flatten(),\n",
    "            nn.Linear(in_channels, 3)  # 3 is arbitrary number, it modify as per requirement\n",
    "        )\n",
    "\n",
    "    def forward(self, x):\n",
    "        x = self.initial_part(x)\n",
    "        x = self.custom_blocks(x)\n",
    "        x = self.remaining_network(x)\n",
    "        return x\n"
   ]
  },
  {
   "cell_type": "markdown",
   "metadata": {},
   "source": [
    "Model (for demonstration, usinng 3 custom blocks)"
   ]
  },
  {
   "cell_type": "code",
   "execution_count": 3,
   "metadata": {},
   "outputs": [
    {
     "name": "stdout",
     "output_type": "stream",
     "text": [
      "final_network(\n",
      "  (initial_part): initial_part_network(\n",
      "    (conv): Conv2d(3, 8, kernel_size=(5, 5), stride=(1, 1), padding=(2, 2))\n",
      "    (maxpool): MaxPool2d(kernel_size=2, stride=2, padding=0, dilation=1, ceil_mode=False)\n",
      "  )\n",
      "  (custom_blocks): Sequential(\n",
      "    (0): custom_part(\n",
      "      (conv1): Conv2d(8, 16, kernel_size=(7, 7), stride=(1, 1), padding=(3, 3))\n",
      "      (maxpool1): MaxPool2d(kernel_size=2, stride=2, padding=0, dilation=1, ceil_mode=False)\n",
      "      (conv2): Conv2d(16, 32, kernel_size=(5, 5), stride=(1, 1), padding=(2, 2))\n",
      "      (maxpool2): MaxPool2d(kernel_size=2, stride=2, padding=0, dilation=1, ceil_mode=False)\n",
      "    )\n",
      "    (1): custom_part(\n",
      "      (conv1): Conv2d(32, 64, kernel_size=(7, 7), stride=(1, 1), padding=(3, 3))\n",
      "      (maxpool1): MaxPool2d(kernel_size=2, stride=2, padding=0, dilation=1, ceil_mode=False)\n",
      "      (conv2): Conv2d(64, 128, kernel_size=(5, 5), stride=(1, 1), padding=(2, 2))\n",
      "      (maxpool2): MaxPool2d(kernel_size=2, stride=2, padding=0, dilation=1, ceil_mode=False)\n",
      "    )\n",
      "    (2): custom_part(\n",
      "      (conv1): Conv2d(128, 256, kernel_size=(7, 7), stride=(1, 1), padding=(3, 3))\n",
      "      (maxpool1): MaxPool2d(kernel_size=2, stride=2, padding=0, dilation=1, ceil_mode=False)\n",
      "      (conv2): Conv2d(256, 512, kernel_size=(5, 5), stride=(1, 1), padding=(2, 2))\n",
      "      (maxpool2): MaxPool2d(kernel_size=2, stride=2, padding=0, dilation=1, ceil_mode=False)\n",
      "    )\n",
      "  )\n",
      "  (remaining_network): Sequential(\n",
      "    (0): Flatten(start_dim=1, end_dim=-1)\n",
      "    (1): Linear(in_features=512, out_features=3, bias=True)\n",
      "  )\n",
      ")\n"
     ]
    }
   ],
   "source": [
    "model = final_network(num_custom_block=3)  \n",
    "print(model)\n"
   ]
  },
  {
   "cell_type": "markdown",
   "metadata": {},
   "source": [
    "Receptive Field Calculation"
   ]
  },
  {
   "cell_type": "code",
   "execution_count": 4,
   "metadata": {},
   "outputs": [],
   "source": [
    "# Calculating output-input parameters\n",
    "def in_out_parameter(layer_parameters, layer_input):\n",
    "    h_in, w_in, j_in, r_in = layer_input\n",
    "    k, s, p = layer_parameters\n",
    "\n",
    "    # Calculate output dimensions for height and width\n",
    "    h_out = math.floor((h_in - k + 2 * p) / s) + 1\n",
    "    w_out = math.floor((w_in - k + 2 * p) / s) + 1\n",
    "\n",
    "    # Output jump and receptive field calculation\n",
    "    j_out = j_in * s\n",
    "    r_out = r_in + (k - 1) * (j_in)\n",
    "  \n",
    "    return (h_out, w_out, j_out, r_out)\n"
   ]
  },
  {
   "cell_type": "code",
   "execution_count": 5,
   "metadata": {},
   "outputs": [],
   "source": [
    "# Function to print layer information\n",
    "def layer_information(layer, layer_name):\n",
    "    print(f\"{layer_name}:\")\n",
    "    print(f\"\\t n (H, W): ({layer[0]}, {layer[1]})\")\n",
    "    print(f\"\\t jump: {layer[2]}\")\n",
    "    print(f\"\\t Receptive fied: {layer[3]}\")\n"
   ]
  },
  {
   "cell_type": "code",
   "execution_count": 6,
   "metadata": {},
   "outputs": [],
   "source": [
    "# Calculation of receptive field\n",
    "def receptive_field(model, input_size):\n",
    "    result = []\n",
    "\n",
    "    # input img parameters\n",
    "    current_layer = [input_size[0], input_size[1], 1, 1]  \n",
    "    # Print corresponding details\n",
    "    layer_information(current_layer,\"Input image\")\n",
    "\n",
    "    for layer_name, layer in model.named_modules():\n",
    "        # \n",
    "        if isinstance(layer, (nn.Conv2d, nn.MaxPool2d)):\n",
    "            # Extracting kernal\n",
    "            k = layer.kernel_size[0] if isinstance(layer.kernel_size, tuple) else layer.kernel_size\n",
    "            # Strides\n",
    "            s = layer.stride[0] if isinstance(layer.stride, tuple) else layer.stride\n",
    "            # padding\n",
    "            p = layer.padding[0] if isinstance(layer.padding, tuple) else layer.padding\n",
    "\n",
    "            # Calculatinng receptive field for next layer\n",
    "            parameters = (k, s, p)\n",
    "            current_layer = in_out_parameter(parameters, current_layer)\n",
    "\n",
    "            result.append(current_layer)\n",
    "            layer_information(current_layer, layer_name)\n",
    "\n",
    "    return result\n"
   ]
  },
  {
   "cell_type": "code",
   "execution_count": 7,
   "metadata": {},
   "outputs": [],
   "source": [
    "# Final model and input img size\n",
    "model = final_network(num_custom_block=2)\n",
    "input_image_size = (320, 960)  \n"
   ]
  },
  {
   "cell_type": "code",
   "execution_count": 8,
   "metadata": {},
   "outputs": [
    {
     "name": "stdout",
     "output_type": "stream",
     "text": [
      "Input image:\n",
      "\t n (H, W): (320, 960)\n",
      "\t jump: 1\n",
      "\t Receptive fied: 1\n",
      "initial_part.conv:\n",
      "\t n (H, W): (320, 960)\n",
      "\t jump: 1\n",
      "\t Receptive fied: 5\n",
      "initial_part.maxpool:\n",
      "\t n (H, W): (160, 480)\n",
      "\t jump: 2\n",
      "\t Receptive fied: 6\n",
      "custom_blocks.0.conv1:\n",
      "\t n (H, W): (160, 480)\n",
      "\t jump: 2\n",
      "\t Receptive fied: 18\n",
      "custom_blocks.0.maxpool1:\n",
      "\t n (H, W): (80, 240)\n",
      "\t jump: 4\n",
      "\t Receptive fied: 20\n",
      "custom_blocks.0.conv2:\n",
      "\t n (H, W): (80, 240)\n",
      "\t jump: 4\n",
      "\t Receptive fied: 36\n",
      "custom_blocks.0.maxpool2:\n",
      "\t n (H, W): (40, 120)\n",
      "\t jump: 8\n",
      "\t Receptive fied: 40\n",
      "custom_blocks.1.conv1:\n",
      "\t n (H, W): (40, 120)\n",
      "\t jump: 8\n",
      "\t Receptive fied: 88\n",
      "custom_blocks.1.maxpool1:\n",
      "\t n (H, W): (20, 60)\n",
      "\t jump: 16\n",
      "\t Receptive fied: 96\n",
      "custom_blocks.1.conv2:\n",
      "\t n (H, W): (20, 60)\n",
      "\t jump: 16\n",
      "\t Receptive fied: 160\n",
      "custom_blocks.1.maxpool2:\n",
      "\t n (H, W): (10, 30)\n",
      "\t jump: 32\n",
      "\t Receptive fied: 176\n"
     ]
    },
    {
     "data": {
      "text/plain": [
       "[(320, 960, 1, 5),\n",
       " (160, 480, 2, 6),\n",
       " (160, 480, 2, 18),\n",
       " (80, 240, 4, 20),\n",
       " (80, 240, 4, 36),\n",
       " (40, 120, 8, 40),\n",
       " (40, 120, 8, 88),\n",
       " (20, 60, 16, 96),\n",
       " (20, 60, 16, 160),\n",
       " (10, 30, 32, 176)]"
      ]
     },
     "execution_count": 8,
     "metadata": {},
     "output_type": "execute_result"
    }
   ],
   "source": [
    "# Calculate receptive fields\n",
    "receptive_field(model, input_image_size)"
   ]
  },
  {
   "cell_type": "markdown",
   "metadata": {},
   "source": [
    "Number of parameters calculation"
   ]
  },
  {
   "cell_type": "code",
   "execution_count": 9,
   "metadata": {},
   "outputs": [],
   "source": [
    "def calculate_parameters(custom_block):\n",
    "\n",
    "    total_parameter = 0\n",
    "\n",
    "    for layer in custom_block.children():\n",
    "\n",
    "        if isinstance(layer, nn.Conv2d):\n",
    "\n",
    "            # No. of weights = out_channels*in_channels*kernel_height*kernel_width\n",
    "            weights = layer.out_channels * layer.in_channels * layer.kernel_size[0] * layer.kernel_size[1]\n",
    "\n",
    "            # No. of bias is based on output channels\n",
    "            biases = layer.out_channels\n",
    "\n",
    "            # Final\n",
    "            layer_parameter = weights + biases\n",
    "            print(f\"{layer}: Weights={weights}, Bias={biases}, Total={layer_parameter}\")\n",
    "            total_parameter += layer_parameter\n",
    "            \n",
    "    return total_parameter"
   ]
  },
  {
   "cell_type": "code",
   "execution_count": 10,
   "metadata": {},
   "outputs": [],
   "source": [
    "# Calculatinng for 2nd custom block\n",
    "second_custom_block = model.custom_blocks[1]  "
   ]
  },
  {
   "cell_type": "code",
   "execution_count": 11,
   "metadata": {},
   "outputs": [
    {
     "name": "stdout",
     "output_type": "stream",
     "text": [
      "Conv2d(32, 64, kernel_size=(7, 7), stride=(1, 1), padding=(3, 3)): Weights=100352, Bias=64, Total=100416\n",
      "Conv2d(64, 128, kernel_size=(5, 5), stride=(1, 1), padding=(2, 2)): Weights=204800, Bias=128, Total=204928\n",
      "\n",
      "Number of learnable parameters in the second custom block : 305344\n"
     ]
    }
   ],
   "source": [
    "second_block_parameter = calculate_parameters(second_custom_block)\n",
    "print(f\"\\nNumber of learnable parameters in the second custom block : {second_block_parameter}\")"
   ]
  },
  {
   "cell_type": "code",
   "execution_count": null,
   "metadata": {},
   "outputs": [],
   "source": []
  },
  {
   "cell_type": "code",
   "execution_count": null,
   "metadata": {},
   "outputs": [],
   "source": []
  },
  {
   "cell_type": "code",
   "execution_count": null,
   "metadata": {},
   "outputs": [],
   "source": []
  },
  {
   "cell_type": "code",
   "execution_count": null,
   "metadata": {},
   "outputs": [],
   "source": []
  }
 ],
 "metadata": {
  "kernelspec": {
   "display_name": "rl",
   "language": "python",
   "name": "python3"
  },
  "language_info": {
   "codemirror_mode": {
    "name": "ipython",
    "version": 3
   },
   "file_extension": ".py",
   "mimetype": "text/x-python",
   "name": "python",
   "nbconvert_exporter": "python",
   "pygments_lexer": "ipython3",
   "version": "3.8.20"
  }
 },
 "nbformat": 4,
 "nbformat_minor": 2
}
